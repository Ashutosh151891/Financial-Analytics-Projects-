{
 "cells": [
  {
   "cell_type": "code",
   "execution_count": 1,
   "metadata": {},
   "outputs": [],
   "source": [
    "import pandas as pd\n",
    "import numpy as np \n",
    "import seaborn as sns \n",
    "import matplotlib.pyplot as plt \n",
    "import math\n",
    "\n",
    "import warnings\n",
    "warnings.filterwarnings(\"ignore\")"
   ]
  },
  {
   "cell_type": "code",
   "execution_count": 2,
   "metadata": {},
   "outputs": [
    {
     "data": {
      "text/html": [
       "<div>\n",
       "<style scoped>\n",
       "    .dataframe tbody tr th:only-of-type {\n",
       "        vertical-align: middle;\n",
       "    }\n",
       "\n",
       "    .dataframe tbody tr th {\n",
       "        vertical-align: top;\n",
       "    }\n",
       "\n",
       "    .dataframe thead th {\n",
       "        text-align: right;\n",
       "    }\n",
       "</style>\n",
       "<table border=\"1\" class=\"dataframe\">\n",
       "  <thead>\n",
       "    <tr style=\"text-align: right;\">\n",
       "      <th></th>\n",
       "      <th>loan_id</th>\n",
       "      <th>no_of_dependents</th>\n",
       "      <th>education</th>\n",
       "      <th>self_employed</th>\n",
       "      <th>income_annum</th>\n",
       "      <th>loan_amount</th>\n",
       "      <th>loan_term</th>\n",
       "      <th>cibil_score</th>\n",
       "      <th>residential_assets_value</th>\n",
       "      <th>commercial_assets_value</th>\n",
       "      <th>luxury_assets_value</th>\n",
       "      <th>bank_asset_value</th>\n",
       "      <th>loan_status</th>\n",
       "    </tr>\n",
       "  </thead>\n",
       "  <tbody>\n",
       "    <tr>\n",
       "      <th>0</th>\n",
       "      <td>1</td>\n",
       "      <td>2</td>\n",
       "      <td>Graduate</td>\n",
       "      <td>No</td>\n",
       "      <td>9600000</td>\n",
       "      <td>29900000</td>\n",
       "      <td>12</td>\n",
       "      <td>778</td>\n",
       "      <td>2400000</td>\n",
       "      <td>17600000</td>\n",
       "      <td>22700000</td>\n",
       "      <td>8000000</td>\n",
       "      <td>Approved</td>\n",
       "    </tr>\n",
       "    <tr>\n",
       "      <th>1</th>\n",
       "      <td>2</td>\n",
       "      <td>0</td>\n",
       "      <td>Not Graduate</td>\n",
       "      <td>Yes</td>\n",
       "      <td>4100000</td>\n",
       "      <td>12200000</td>\n",
       "      <td>8</td>\n",
       "      <td>417</td>\n",
       "      <td>2700000</td>\n",
       "      <td>2200000</td>\n",
       "      <td>8800000</td>\n",
       "      <td>3300000</td>\n",
       "      <td>Rejected</td>\n",
       "    </tr>\n",
       "    <tr>\n",
       "      <th>2</th>\n",
       "      <td>3</td>\n",
       "      <td>3</td>\n",
       "      <td>Graduate</td>\n",
       "      <td>No</td>\n",
       "      <td>9100000</td>\n",
       "      <td>29700000</td>\n",
       "      <td>20</td>\n",
       "      <td>506</td>\n",
       "      <td>7100000</td>\n",
       "      <td>4500000</td>\n",
       "      <td>33300000</td>\n",
       "      <td>12800000</td>\n",
       "      <td>Rejected</td>\n",
       "    </tr>\n",
       "    <tr>\n",
       "      <th>3</th>\n",
       "      <td>4</td>\n",
       "      <td>3</td>\n",
       "      <td>Graduate</td>\n",
       "      <td>No</td>\n",
       "      <td>8200000</td>\n",
       "      <td>30700000</td>\n",
       "      <td>8</td>\n",
       "      <td>467</td>\n",
       "      <td>18200000</td>\n",
       "      <td>3300000</td>\n",
       "      <td>23300000</td>\n",
       "      <td>7900000</td>\n",
       "      <td>Rejected</td>\n",
       "    </tr>\n",
       "    <tr>\n",
       "      <th>4</th>\n",
       "      <td>5</td>\n",
       "      <td>5</td>\n",
       "      <td>Not Graduate</td>\n",
       "      <td>Yes</td>\n",
       "      <td>9800000</td>\n",
       "      <td>24200000</td>\n",
       "      <td>20</td>\n",
       "      <td>382</td>\n",
       "      <td>12400000</td>\n",
       "      <td>8200000</td>\n",
       "      <td>29400000</td>\n",
       "      <td>5000000</td>\n",
       "      <td>Rejected</td>\n",
       "    </tr>\n",
       "  </tbody>\n",
       "</table>\n",
       "</div>"
      ],
      "text/plain": [
       "   loan_id   no_of_dependents      education  self_employed   income_annum  \\\n",
       "0        1                  2       Graduate             No        9600000   \n",
       "1        2                  0   Not Graduate            Yes        4100000   \n",
       "2        3                  3       Graduate             No        9100000   \n",
       "3        4                  3       Graduate             No        8200000   \n",
       "4        5                  5   Not Graduate            Yes        9800000   \n",
       "\n",
       "    loan_amount   loan_term   cibil_score   residential_assets_value  \\\n",
       "0      29900000          12           778                    2400000   \n",
       "1      12200000           8           417                    2700000   \n",
       "2      29700000          20           506                    7100000   \n",
       "3      30700000           8           467                   18200000   \n",
       "4      24200000          20           382                   12400000   \n",
       "\n",
       "    commercial_assets_value   luxury_assets_value   bank_asset_value  \\\n",
       "0                  17600000              22700000            8000000   \n",
       "1                   2200000               8800000            3300000   \n",
       "2                   4500000              33300000           12800000   \n",
       "3                   3300000              23300000            7900000   \n",
       "4                   8200000              29400000            5000000   \n",
       "\n",
       "   loan_status  \n",
       "0     Approved  \n",
       "1     Rejected  \n",
       "2     Rejected  \n",
       "3     Rejected  \n",
       "4     Rejected  "
      ]
     },
     "execution_count": 2,
     "metadata": {},
     "output_type": "execute_result"
    }
   ],
   "source": [
    "df=pd.read_csv(\"C:/Users/USER ACCOUNT/Downloads/Loan approval data set (ml).csv\")\n",
    "df.head()"
   ]
  },
  {
   "cell_type": "code",
   "execution_count": 3,
   "metadata": {},
   "outputs": [
    {
     "data": {
      "text/plain": [
       "loan_id                      0\n",
       " no_of_dependents            0\n",
       " education                   0\n",
       " self_employed               0\n",
       " income_annum                0\n",
       " loan_amount                 0\n",
       " loan_term                   0\n",
       " cibil_score                 0\n",
       " residential_assets_value    0\n",
       " commercial_assets_value     0\n",
       " luxury_assets_value         0\n",
       " bank_asset_value            0\n",
       " loan_status                 0\n",
       "dtype: int64"
      ]
     },
     "execution_count": 3,
     "metadata": {},
     "output_type": "execute_result"
    }
   ],
   "source": [
    "df.shape\n",
    "df.info\n",
    "df.isnull().sum()"
   ]
  },
  {
   "cell_type": "markdown",
   "metadata": {},
   "source": [
    "Dropping unnecesary cell"
   ]
  },
  {
   "cell_type": "code",
   "execution_count": 4,
   "metadata": {},
   "outputs": [
    {
     "data": {
      "text/html": [
       "<div>\n",
       "<style scoped>\n",
       "    .dataframe tbody tr th:only-of-type {\n",
       "        vertical-align: middle;\n",
       "    }\n",
       "\n",
       "    .dataframe tbody tr th {\n",
       "        vertical-align: top;\n",
       "    }\n",
       "\n",
       "    .dataframe thead th {\n",
       "        text-align: right;\n",
       "    }\n",
       "</style>\n",
       "<table border=\"1\" class=\"dataframe\">\n",
       "  <thead>\n",
       "    <tr style=\"text-align: right;\">\n",
       "      <th></th>\n",
       "      <th>no_of_dependents</th>\n",
       "      <th>education</th>\n",
       "      <th>self_employed</th>\n",
       "      <th>income_annum</th>\n",
       "      <th>loan_amount</th>\n",
       "      <th>loan_term</th>\n",
       "      <th>cibil_score</th>\n",
       "      <th>residential_assets_value</th>\n",
       "      <th>commercial_assets_value</th>\n",
       "      <th>luxury_assets_value</th>\n",
       "      <th>bank_asset_value</th>\n",
       "      <th>loan_status</th>\n",
       "    </tr>\n",
       "  </thead>\n",
       "  <tbody>\n",
       "    <tr>\n",
       "      <th>0</th>\n",
       "      <td>2</td>\n",
       "      <td>Graduate</td>\n",
       "      <td>No</td>\n",
       "      <td>9600000</td>\n",
       "      <td>29900000</td>\n",
       "      <td>12</td>\n",
       "      <td>778</td>\n",
       "      <td>2400000</td>\n",
       "      <td>17600000</td>\n",
       "      <td>22700000</td>\n",
       "      <td>8000000</td>\n",
       "      <td>Approved</td>\n",
       "    </tr>\n",
       "    <tr>\n",
       "      <th>1</th>\n",
       "      <td>0</td>\n",
       "      <td>Not Graduate</td>\n",
       "      <td>Yes</td>\n",
       "      <td>4100000</td>\n",
       "      <td>12200000</td>\n",
       "      <td>8</td>\n",
       "      <td>417</td>\n",
       "      <td>2700000</td>\n",
       "      <td>2200000</td>\n",
       "      <td>8800000</td>\n",
       "      <td>3300000</td>\n",
       "      <td>Rejected</td>\n",
       "    </tr>\n",
       "    <tr>\n",
       "      <th>2</th>\n",
       "      <td>3</td>\n",
       "      <td>Graduate</td>\n",
       "      <td>No</td>\n",
       "      <td>9100000</td>\n",
       "      <td>29700000</td>\n",
       "      <td>20</td>\n",
       "      <td>506</td>\n",
       "      <td>7100000</td>\n",
       "      <td>4500000</td>\n",
       "      <td>33300000</td>\n",
       "      <td>12800000</td>\n",
       "      <td>Rejected</td>\n",
       "    </tr>\n",
       "    <tr>\n",
       "      <th>3</th>\n",
       "      <td>3</td>\n",
       "      <td>Graduate</td>\n",
       "      <td>No</td>\n",
       "      <td>8200000</td>\n",
       "      <td>30700000</td>\n",
       "      <td>8</td>\n",
       "      <td>467</td>\n",
       "      <td>18200000</td>\n",
       "      <td>3300000</td>\n",
       "      <td>23300000</td>\n",
       "      <td>7900000</td>\n",
       "      <td>Rejected</td>\n",
       "    </tr>\n",
       "    <tr>\n",
       "      <th>4</th>\n",
       "      <td>5</td>\n",
       "      <td>Not Graduate</td>\n",
       "      <td>Yes</td>\n",
       "      <td>9800000</td>\n",
       "      <td>24200000</td>\n",
       "      <td>20</td>\n",
       "      <td>382</td>\n",
       "      <td>12400000</td>\n",
       "      <td>8200000</td>\n",
       "      <td>29400000</td>\n",
       "      <td>5000000</td>\n",
       "      <td>Rejected</td>\n",
       "    </tr>\n",
       "  </tbody>\n",
       "</table>\n",
       "</div>"
      ],
      "text/plain": [
       "    no_of_dependents      education  self_employed   income_annum  \\\n",
       "0                  2       Graduate             No        9600000   \n",
       "1                  0   Not Graduate            Yes        4100000   \n",
       "2                  3       Graduate             No        9100000   \n",
       "3                  3       Graduate             No        8200000   \n",
       "4                  5   Not Graduate            Yes        9800000   \n",
       "\n",
       "    loan_amount   loan_term   cibil_score   residential_assets_value  \\\n",
       "0      29900000          12           778                    2400000   \n",
       "1      12200000           8           417                    2700000   \n",
       "2      29700000          20           506                    7100000   \n",
       "3      30700000           8           467                   18200000   \n",
       "4      24200000          20           382                   12400000   \n",
       "\n",
       "    commercial_assets_value   luxury_assets_value   bank_asset_value  \\\n",
       "0                  17600000              22700000            8000000   \n",
       "1                   2200000               8800000            3300000   \n",
       "2                   4500000              33300000           12800000   \n",
       "3                   3300000              23300000            7900000   \n",
       "4                   8200000              29400000            5000000   \n",
       "\n",
       "   loan_status  \n",
       "0     Approved  \n",
       "1     Rejected  \n",
       "2     Rejected  \n",
       "3     Rejected  \n",
       "4     Rejected  "
      ]
     },
     "execution_count": 4,
     "metadata": {},
     "output_type": "execute_result"
    }
   ],
   "source": [
    "df=df.drop([\"loan_id\"],axis=1)\n",
    "df.head()"
   ]
  },
  {
   "cell_type": "markdown",
   "metadata": {},
   "source": [
    "Encoding the cell-it changes the categorical labels into numeric forms "
   ]
  },
  {
   "cell_type": "code",
   "execution_count": 5,
   "metadata": {},
   "outputs": [],
   "source": [
    "from sklearn.preprocessing import LabelEncoder\n",
    "le = LabelEncoder()\n",
    "\n",
    "df[\" education\"] = le.fit_transform(df[\" education\"])\n",
    "df[\" self_employed\"] = le.fit_transform(df[\" self_employed\"])\n",
    "df[\" loan_status\"] = le.fit_transform(df[\" loan_status\"])"
   ]
  },
  {
   "cell_type": "code",
   "execution_count": 6,
   "metadata": {},
   "outputs": [
    {
     "data": {
      "text/html": [
       "<div>\n",
       "<style scoped>\n",
       "    .dataframe tbody tr th:only-of-type {\n",
       "        vertical-align: middle;\n",
       "    }\n",
       "\n",
       "    .dataframe tbody tr th {\n",
       "        vertical-align: top;\n",
       "    }\n",
       "\n",
       "    .dataframe thead th {\n",
       "        text-align: right;\n",
       "    }\n",
       "</style>\n",
       "<table border=\"1\" class=\"dataframe\">\n",
       "  <thead>\n",
       "    <tr style=\"text-align: right;\">\n",
       "      <th></th>\n",
       "      <th>no_of_dependents</th>\n",
       "      <th>education</th>\n",
       "      <th>self_employed</th>\n",
       "      <th>income_annum</th>\n",
       "      <th>loan_amount</th>\n",
       "      <th>loan_term</th>\n",
       "      <th>cibil_score</th>\n",
       "      <th>residential_assets_value</th>\n",
       "      <th>commercial_assets_value</th>\n",
       "      <th>luxury_assets_value</th>\n",
       "      <th>bank_asset_value</th>\n",
       "      <th>loan_status</th>\n",
       "    </tr>\n",
       "  </thead>\n",
       "  <tbody>\n",
       "    <tr>\n",
       "      <th>0</th>\n",
       "      <td>2</td>\n",
       "      <td>0</td>\n",
       "      <td>0</td>\n",
       "      <td>9600000</td>\n",
       "      <td>29900000</td>\n",
       "      <td>12</td>\n",
       "      <td>778</td>\n",
       "      <td>2400000</td>\n",
       "      <td>17600000</td>\n",
       "      <td>22700000</td>\n",
       "      <td>8000000</td>\n",
       "      <td>0</td>\n",
       "    </tr>\n",
       "    <tr>\n",
       "      <th>1</th>\n",
       "      <td>0</td>\n",
       "      <td>1</td>\n",
       "      <td>1</td>\n",
       "      <td>4100000</td>\n",
       "      <td>12200000</td>\n",
       "      <td>8</td>\n",
       "      <td>417</td>\n",
       "      <td>2700000</td>\n",
       "      <td>2200000</td>\n",
       "      <td>8800000</td>\n",
       "      <td>3300000</td>\n",
       "      <td>1</td>\n",
       "    </tr>\n",
       "    <tr>\n",
       "      <th>2</th>\n",
       "      <td>3</td>\n",
       "      <td>0</td>\n",
       "      <td>0</td>\n",
       "      <td>9100000</td>\n",
       "      <td>29700000</td>\n",
       "      <td>20</td>\n",
       "      <td>506</td>\n",
       "      <td>7100000</td>\n",
       "      <td>4500000</td>\n",
       "      <td>33300000</td>\n",
       "      <td>12800000</td>\n",
       "      <td>1</td>\n",
       "    </tr>\n",
       "    <tr>\n",
       "      <th>3</th>\n",
       "      <td>3</td>\n",
       "      <td>0</td>\n",
       "      <td>0</td>\n",
       "      <td>8200000</td>\n",
       "      <td>30700000</td>\n",
       "      <td>8</td>\n",
       "      <td>467</td>\n",
       "      <td>18200000</td>\n",
       "      <td>3300000</td>\n",
       "      <td>23300000</td>\n",
       "      <td>7900000</td>\n",
       "      <td>1</td>\n",
       "    </tr>\n",
       "    <tr>\n",
       "      <th>4</th>\n",
       "      <td>5</td>\n",
       "      <td>1</td>\n",
       "      <td>1</td>\n",
       "      <td>9800000</td>\n",
       "      <td>24200000</td>\n",
       "      <td>20</td>\n",
       "      <td>382</td>\n",
       "      <td>12400000</td>\n",
       "      <td>8200000</td>\n",
       "      <td>29400000</td>\n",
       "      <td>5000000</td>\n",
       "      <td>1</td>\n",
       "    </tr>\n",
       "  </tbody>\n",
       "</table>\n",
       "</div>"
      ],
      "text/plain": [
       "    no_of_dependents   education   self_employed   income_annum   loan_amount  \\\n",
       "0                  2           0               0        9600000      29900000   \n",
       "1                  0           1               1        4100000      12200000   \n",
       "2                  3           0               0        9100000      29700000   \n",
       "3                  3           0               0        8200000      30700000   \n",
       "4                  5           1               1        9800000      24200000   \n",
       "\n",
       "    loan_term   cibil_score   residential_assets_value  \\\n",
       "0          12           778                    2400000   \n",
       "1           8           417                    2700000   \n",
       "2          20           506                    7100000   \n",
       "3           8           467                   18200000   \n",
       "4          20           382                   12400000   \n",
       "\n",
       "    commercial_assets_value   luxury_assets_value   bank_asset_value  \\\n",
       "0                  17600000              22700000            8000000   \n",
       "1                   2200000               8800000            3300000   \n",
       "2                   4500000              33300000           12800000   \n",
       "3                   3300000              23300000            7900000   \n",
       "4                   8200000              29400000            5000000   \n",
       "\n",
       "    loan_status  \n",
       "0             0  \n",
       "1             1  \n",
       "2             1  \n",
       "3             1  \n",
       "4             1  "
      ]
     },
     "execution_count": 6,
     "metadata": {},
     "output_type": "execute_result"
    }
   ],
   "source": [
    "df.head()"
   ]
  },
  {
   "cell_type": "markdown",
   "metadata": {},
   "source": [
    "0 means approved and 1 means rejected=loan\n",
    "0 means Graduate and 1 means Not graduate=education\n",
    "0 means No and 1 means yes = self employed "
   ]
  },
  {
   "cell_type": "code",
   "execution_count": 7,
   "metadata": {},
   "outputs": [
    {
     "data": {
      "text/html": [
       "<style type=\"text/css\">\n",
       "#T_8b15b_row0_col0, #T_8b15b_row0_col1, #T_8b15b_row0_col2, #T_8b15b_row0_col4, #T_8b15b_row0_col5, #T_8b15b_row0_col6, #T_8b15b_row0_col7, #T_8b15b_row1_col0, #T_8b15b_row1_col1, #T_8b15b_row1_col2, #T_8b15b_row1_col4, #T_8b15b_row1_col5, #T_8b15b_row1_col6, #T_8b15b_row1_col7, #T_8b15b_row2_col0, #T_8b15b_row2_col1, #T_8b15b_row2_col2, #T_8b15b_row2_col4, #T_8b15b_row2_col5, #T_8b15b_row2_col6, #T_8b15b_row2_col7, #T_8b15b_row3_col0, #T_8b15b_row4_col0, #T_8b15b_row5_col0, #T_8b15b_row5_col1, #T_8b15b_row5_col2, #T_8b15b_row5_col4, #T_8b15b_row5_col5, #T_8b15b_row5_col6, #T_8b15b_row5_col7, #T_8b15b_row6_col0, #T_8b15b_row6_col1, #T_8b15b_row6_col2, #T_8b15b_row6_col4, #T_8b15b_row6_col5, #T_8b15b_row6_col6, #T_8b15b_row6_col7, #T_8b15b_row7_col0, #T_8b15b_row7_col3, #T_8b15b_row8_col0, #T_8b15b_row9_col0, #T_8b15b_row10_col0, #T_8b15b_row11_col0, #T_8b15b_row11_col1, #T_8b15b_row11_col2, #T_8b15b_row11_col4, #T_8b15b_row11_col5, #T_8b15b_row11_col6, #T_8b15b_row11_col7 {\n",
       "  background-color: #f7fbff;\n",
       "  color: #000000;\n",
       "}\n",
       "#T_8b15b_row0_col3, #T_8b15b_row1_col3, #T_8b15b_row2_col3, #T_8b15b_row3_col7, #T_8b15b_row5_col3, #T_8b15b_row6_col3, #T_8b15b_row8_col3, #T_8b15b_row8_col5, #T_8b15b_row10_col3, #T_8b15b_row11_col3 {\n",
       "  background-color: #c6dbef;\n",
       "  color: #000000;\n",
       "}\n",
       "#T_8b15b_row3_col1 {\n",
       "  background-color: #abd0e6;\n",
       "  color: #000000;\n",
       "}\n",
       "#T_8b15b_row3_col2 {\n",
       "  background-color: #b4d3e9;\n",
       "  color: #000000;\n",
       "}\n",
       "#T_8b15b_row3_col3 {\n",
       "  background-color: #2070b4;\n",
       "  color: #f1f1f1;\n",
       "}\n",
       "#T_8b15b_row3_col4, #T_8b15b_row3_col5, #T_8b15b_row8_col6 {\n",
       "  background-color: #a6cee4;\n",
       "  color: #000000;\n",
       "}\n",
       "#T_8b15b_row3_col6 {\n",
       "  background-color: #a8cee4;\n",
       "  color: #000000;\n",
       "}\n",
       "#T_8b15b_row4_col1, #T_8b15b_row4_col3, #T_8b15b_row4_col4, #T_8b15b_row4_col7, #T_8b15b_row9_col1, #T_8b15b_row9_col2, #T_8b15b_row9_col3, #T_8b15b_row9_col5, #T_8b15b_row9_col6 {\n",
       "  background-color: #08306b;\n",
       "  color: #f1f1f1;\n",
       "}\n",
       "#T_8b15b_row4_col2, #T_8b15b_row4_col5, #T_8b15b_row9_col7 {\n",
       "  background-color: #08316d;\n",
       "  color: #f1f1f1;\n",
       "}\n",
       "#T_8b15b_row4_col6 {\n",
       "  background-color: #08326e;\n",
       "  color: #f1f1f1;\n",
       "}\n",
       "#T_8b15b_row7_col1 {\n",
       "  background-color: #6dafd7;\n",
       "  color: #f1f1f1;\n",
       "}\n",
       "#T_8b15b_row7_col2 {\n",
       "  background-color: #2b7bba;\n",
       "  color: #f1f1f1;\n",
       "}\n",
       "#T_8b15b_row7_col4 {\n",
       "  background-color: #bad6eb;\n",
       "  color: #000000;\n",
       "}\n",
       "#T_8b15b_row7_col5 {\n",
       "  background-color: #9ac8e0;\n",
       "  color: #000000;\n",
       "}\n",
       "#T_8b15b_row7_col6 {\n",
       "  background-color: #64a9d3;\n",
       "  color: #f1f1f1;\n",
       "}\n",
       "#T_8b15b_row7_col7 {\n",
       "  background-color: #2474b7;\n",
       "  color: #f1f1f1;\n",
       "}\n",
       "#T_8b15b_row8_col1, #T_8b15b_row10_col1 {\n",
       "  background-color: #add0e6;\n",
       "  color: #000000;\n",
       "}\n",
       "#T_8b15b_row8_col2 {\n",
       "  background-color: #72b2d8;\n",
       "  color: #f1f1f1;\n",
       "}\n",
       "#T_8b15b_row8_col4 {\n",
       "  background-color: #d6e5f4;\n",
       "  color: #000000;\n",
       "}\n",
       "#T_8b15b_row8_col7 {\n",
       "  background-color: #6fb0d7;\n",
       "  color: #f1f1f1;\n",
       "}\n",
       "#T_8b15b_row9_col4 {\n",
       "  background-color: #083674;\n",
       "  color: #f1f1f1;\n",
       "}\n",
       "#T_8b15b_row10_col2 {\n",
       "  background-color: #a4cce3;\n",
       "  color: #000000;\n",
       "}\n",
       "#T_8b15b_row10_col4 {\n",
       "  background-color: #b7d4ea;\n",
       "  color: #000000;\n",
       "}\n",
       "#T_8b15b_row10_col5 {\n",
       "  background-color: #b2d2e8;\n",
       "  color: #000000;\n",
       "}\n",
       "#T_8b15b_row10_col6 {\n",
       "  background-color: #aed1e7;\n",
       "  color: #000000;\n",
       "}\n",
       "#T_8b15b_row10_col7 {\n",
       "  background-color: #9fcae1;\n",
       "  color: #000000;\n",
       "}\n",
       "</style>\n",
       "<table id=\"T_8b15b\">\n",
       "  <thead>\n",
       "    <tr>\n",
       "      <th class=\"blank level0\" >&nbsp;</th>\n",
       "      <th id=\"T_8b15b_level0_col0\" class=\"col_heading level0 col0\" >count</th>\n",
       "      <th id=\"T_8b15b_level0_col1\" class=\"col_heading level0 col1\" >mean</th>\n",
       "      <th id=\"T_8b15b_level0_col2\" class=\"col_heading level0 col2\" >std</th>\n",
       "      <th id=\"T_8b15b_level0_col3\" class=\"col_heading level0 col3\" >min</th>\n",
       "      <th id=\"T_8b15b_level0_col4\" class=\"col_heading level0 col4\" >25%</th>\n",
       "      <th id=\"T_8b15b_level0_col5\" class=\"col_heading level0 col5\" >50%</th>\n",
       "      <th id=\"T_8b15b_level0_col6\" class=\"col_heading level0 col6\" >75%</th>\n",
       "      <th id=\"T_8b15b_level0_col7\" class=\"col_heading level0 col7\" >max</th>\n",
       "    </tr>\n",
       "  </thead>\n",
       "  <tbody>\n",
       "    <tr>\n",
       "      <th id=\"T_8b15b_level0_row0\" class=\"row_heading level0 row0\" > no_of_dependents</th>\n",
       "      <td id=\"T_8b15b_row0_col0\" class=\"data row0 col0\" >4269.000000</td>\n",
       "      <td id=\"T_8b15b_row0_col1\" class=\"data row0 col1\" >2.498712</td>\n",
       "      <td id=\"T_8b15b_row0_col2\" class=\"data row0 col2\" >1.695910</td>\n",
       "      <td id=\"T_8b15b_row0_col3\" class=\"data row0 col3\" >0.000000</td>\n",
       "      <td id=\"T_8b15b_row0_col4\" class=\"data row0 col4\" >1.000000</td>\n",
       "      <td id=\"T_8b15b_row0_col5\" class=\"data row0 col5\" >3.000000</td>\n",
       "      <td id=\"T_8b15b_row0_col6\" class=\"data row0 col6\" >4.000000</td>\n",
       "      <td id=\"T_8b15b_row0_col7\" class=\"data row0 col7\" >5.000000</td>\n",
       "    </tr>\n",
       "    <tr>\n",
       "      <th id=\"T_8b15b_level0_row1\" class=\"row_heading level0 row1\" > education</th>\n",
       "      <td id=\"T_8b15b_row1_col0\" class=\"data row1 col0\" >4269.000000</td>\n",
       "      <td id=\"T_8b15b_row1_col1\" class=\"data row1 col1\" >0.497775</td>\n",
       "      <td id=\"T_8b15b_row1_col2\" class=\"data row1 col2\" >0.500054</td>\n",
       "      <td id=\"T_8b15b_row1_col3\" class=\"data row1 col3\" >0.000000</td>\n",
       "      <td id=\"T_8b15b_row1_col4\" class=\"data row1 col4\" >0.000000</td>\n",
       "      <td id=\"T_8b15b_row1_col5\" class=\"data row1 col5\" >0.000000</td>\n",
       "      <td id=\"T_8b15b_row1_col6\" class=\"data row1 col6\" >1.000000</td>\n",
       "      <td id=\"T_8b15b_row1_col7\" class=\"data row1 col7\" >1.000000</td>\n",
       "    </tr>\n",
       "    <tr>\n",
       "      <th id=\"T_8b15b_level0_row2\" class=\"row_heading level0 row2\" > self_employed</th>\n",
       "      <td id=\"T_8b15b_row2_col0\" class=\"data row2 col0\" >4269.000000</td>\n",
       "      <td id=\"T_8b15b_row2_col1\" class=\"data row2 col1\" >0.503631</td>\n",
       "      <td id=\"T_8b15b_row2_col2\" class=\"data row2 col2\" >0.500045</td>\n",
       "      <td id=\"T_8b15b_row2_col3\" class=\"data row2 col3\" >0.000000</td>\n",
       "      <td id=\"T_8b15b_row2_col4\" class=\"data row2 col4\" >0.000000</td>\n",
       "      <td id=\"T_8b15b_row2_col5\" class=\"data row2 col5\" >1.000000</td>\n",
       "      <td id=\"T_8b15b_row2_col6\" class=\"data row2 col6\" >1.000000</td>\n",
       "      <td id=\"T_8b15b_row2_col7\" class=\"data row2 col7\" >1.000000</td>\n",
       "    </tr>\n",
       "    <tr>\n",
       "      <th id=\"T_8b15b_level0_row3\" class=\"row_heading level0 row3\" > income_annum</th>\n",
       "      <td id=\"T_8b15b_row3_col0\" class=\"data row3 col0\" >4269.000000</td>\n",
       "      <td id=\"T_8b15b_row3_col1\" class=\"data row3 col1\" >5059123.916608</td>\n",
       "      <td id=\"T_8b15b_row3_col2\" class=\"data row3 col2\" >2806839.831818</td>\n",
       "      <td id=\"T_8b15b_row3_col3\" class=\"data row3 col3\" >200000.000000</td>\n",
       "      <td id=\"T_8b15b_row3_col4\" class=\"data row3 col4\" >2700000.000000</td>\n",
       "      <td id=\"T_8b15b_row3_col5\" class=\"data row3 col5\" >5100000.000000</td>\n",
       "      <td id=\"T_8b15b_row3_col6\" class=\"data row3 col6\" >7500000.000000</td>\n",
       "      <td id=\"T_8b15b_row3_col7\" class=\"data row3 col7\" >9900000.000000</td>\n",
       "    </tr>\n",
       "    <tr>\n",
       "      <th id=\"T_8b15b_level0_row4\" class=\"row_heading level0 row4\" > loan_amount</th>\n",
       "      <td id=\"T_8b15b_row4_col0\" class=\"data row4 col0\" >4269.000000</td>\n",
       "      <td id=\"T_8b15b_row4_col1\" class=\"data row4 col1\" >15133450.456781</td>\n",
       "      <td id=\"T_8b15b_row4_col2\" class=\"data row4 col2\" >9043362.984843</td>\n",
       "      <td id=\"T_8b15b_row4_col3\" class=\"data row4 col3\" >300000.000000</td>\n",
       "      <td id=\"T_8b15b_row4_col4\" class=\"data row4 col4\" >7700000.000000</td>\n",
       "      <td id=\"T_8b15b_row4_col5\" class=\"data row4 col5\" >14500000.000000</td>\n",
       "      <td id=\"T_8b15b_row4_col6\" class=\"data row4 col6\" >21500000.000000</td>\n",
       "      <td id=\"T_8b15b_row4_col7\" class=\"data row4 col7\" >39500000.000000</td>\n",
       "    </tr>\n",
       "    <tr>\n",
       "      <th id=\"T_8b15b_level0_row5\" class=\"row_heading level0 row5\" > loan_term</th>\n",
       "      <td id=\"T_8b15b_row5_col0\" class=\"data row5 col0\" >4269.000000</td>\n",
       "      <td id=\"T_8b15b_row5_col1\" class=\"data row5 col1\" >10.900445</td>\n",
       "      <td id=\"T_8b15b_row5_col2\" class=\"data row5 col2\" >5.709187</td>\n",
       "      <td id=\"T_8b15b_row5_col3\" class=\"data row5 col3\" >2.000000</td>\n",
       "      <td id=\"T_8b15b_row5_col4\" class=\"data row5 col4\" >6.000000</td>\n",
       "      <td id=\"T_8b15b_row5_col5\" class=\"data row5 col5\" >10.000000</td>\n",
       "      <td id=\"T_8b15b_row5_col6\" class=\"data row5 col6\" >16.000000</td>\n",
       "      <td id=\"T_8b15b_row5_col7\" class=\"data row5 col7\" >20.000000</td>\n",
       "    </tr>\n",
       "    <tr>\n",
       "      <th id=\"T_8b15b_level0_row6\" class=\"row_heading level0 row6\" > cibil_score</th>\n",
       "      <td id=\"T_8b15b_row6_col0\" class=\"data row6 col0\" >4269.000000</td>\n",
       "      <td id=\"T_8b15b_row6_col1\" class=\"data row6 col1\" >599.936051</td>\n",
       "      <td id=\"T_8b15b_row6_col2\" class=\"data row6 col2\" >172.430401</td>\n",
       "      <td id=\"T_8b15b_row6_col3\" class=\"data row6 col3\" >300.000000</td>\n",
       "      <td id=\"T_8b15b_row6_col4\" class=\"data row6 col4\" >453.000000</td>\n",
       "      <td id=\"T_8b15b_row6_col5\" class=\"data row6 col5\" >600.000000</td>\n",
       "      <td id=\"T_8b15b_row6_col6\" class=\"data row6 col6\" >748.000000</td>\n",
       "      <td id=\"T_8b15b_row6_col7\" class=\"data row6 col7\" >900.000000</td>\n",
       "    </tr>\n",
       "    <tr>\n",
       "      <th id=\"T_8b15b_level0_row7\" class=\"row_heading level0 row7\" > residential_assets_value</th>\n",
       "      <td id=\"T_8b15b_row7_col0\" class=\"data row7 col0\" >4269.000000</td>\n",
       "      <td id=\"T_8b15b_row7_col1\" class=\"data row7 col1\" >7472616.537831</td>\n",
       "      <td id=\"T_8b15b_row7_col2\" class=\"data row7 col2\" >6503636.587664</td>\n",
       "      <td id=\"T_8b15b_row7_col3\" class=\"data row7 col3\" >-100000.000000</td>\n",
       "      <td id=\"T_8b15b_row7_col4\" class=\"data row7 col4\" >2200000.000000</td>\n",
       "      <td id=\"T_8b15b_row7_col5\" class=\"data row7 col5\" >5600000.000000</td>\n",
       "      <td id=\"T_8b15b_row7_col6\" class=\"data row7 col6\" >11300000.000000</td>\n",
       "      <td id=\"T_8b15b_row7_col7\" class=\"data row7 col7\" >29100000.000000</td>\n",
       "    </tr>\n",
       "    <tr>\n",
       "      <th id=\"T_8b15b_level0_row8\" class=\"row_heading level0 row8\" > commercial_assets_value</th>\n",
       "      <td id=\"T_8b15b_row8_col0\" class=\"data row8 col0\" >4269.000000</td>\n",
       "      <td id=\"T_8b15b_row8_col1\" class=\"data row8 col1\" >4973155.305692</td>\n",
       "      <td id=\"T_8b15b_row8_col2\" class=\"data row8 col2\" >4388966.089638</td>\n",
       "      <td id=\"T_8b15b_row8_col3\" class=\"data row8 col3\" >0.000000</td>\n",
       "      <td id=\"T_8b15b_row8_col4\" class=\"data row8 col4\" >1300000.000000</td>\n",
       "      <td id=\"T_8b15b_row8_col5\" class=\"data row8 col5\" >3700000.000000</td>\n",
       "      <td id=\"T_8b15b_row8_col6\" class=\"data row8 col6\" >7600000.000000</td>\n",
       "      <td id=\"T_8b15b_row8_col7\" class=\"data row8 col7\" >19400000.000000</td>\n",
       "    </tr>\n",
       "    <tr>\n",
       "      <th id=\"T_8b15b_level0_row9\" class=\"row_heading level0 row9\" > luxury_assets_value</th>\n",
       "      <td id=\"T_8b15b_row9_col0\" class=\"data row9 col0\" >4269.000000</td>\n",
       "      <td id=\"T_8b15b_row9_col1\" class=\"data row9 col1\" >15126305.926446</td>\n",
       "      <td id=\"T_8b15b_row9_col2\" class=\"data row9 col2\" >9103753.665256</td>\n",
       "      <td id=\"T_8b15b_row9_col3\" class=\"data row9 col3\" >300000.000000</td>\n",
       "      <td id=\"T_8b15b_row9_col4\" class=\"data row9 col4\" >7500000.000000</td>\n",
       "      <td id=\"T_8b15b_row9_col5\" class=\"data row9 col5\" >14600000.000000</td>\n",
       "      <td id=\"T_8b15b_row9_col6\" class=\"data row9 col6\" >21700000.000000</td>\n",
       "      <td id=\"T_8b15b_row9_col7\" class=\"data row9 col7\" >39200000.000000</td>\n",
       "    </tr>\n",
       "    <tr>\n",
       "      <th id=\"T_8b15b_level0_row10\" class=\"row_heading level0 row10\" > bank_asset_value</th>\n",
       "      <td id=\"T_8b15b_row10_col0\" class=\"data row10 col0\" >4269.000000</td>\n",
       "      <td id=\"T_8b15b_row10_col1\" class=\"data row10 col1\" >4976692.433825</td>\n",
       "      <td id=\"T_8b15b_row10_col2\" class=\"data row10 col2\" >3250185.305696</td>\n",
       "      <td id=\"T_8b15b_row10_col3\" class=\"data row10 col3\" >0.000000</td>\n",
       "      <td id=\"T_8b15b_row10_col4\" class=\"data row10 col4\" >2300000.000000</td>\n",
       "      <td id=\"T_8b15b_row10_col5\" class=\"data row10 col5\" >4600000.000000</td>\n",
       "      <td id=\"T_8b15b_row10_col6\" class=\"data row10 col6\" >7100000.000000</td>\n",
       "      <td id=\"T_8b15b_row10_col7\" class=\"data row10 col7\" >14700000.000000</td>\n",
       "    </tr>\n",
       "    <tr>\n",
       "      <th id=\"T_8b15b_level0_row11\" class=\"row_heading level0 row11\" > loan_status</th>\n",
       "      <td id=\"T_8b15b_row11_col0\" class=\"data row11 col0\" >4269.000000</td>\n",
       "      <td id=\"T_8b15b_row11_col1\" class=\"data row11 col1\" >0.377840</td>\n",
       "      <td id=\"T_8b15b_row11_col2\" class=\"data row11 col2\" >0.484904</td>\n",
       "      <td id=\"T_8b15b_row11_col3\" class=\"data row11 col3\" >0.000000</td>\n",
       "      <td id=\"T_8b15b_row11_col4\" class=\"data row11 col4\" >0.000000</td>\n",
       "      <td id=\"T_8b15b_row11_col5\" class=\"data row11 col5\" >0.000000</td>\n",
       "      <td id=\"T_8b15b_row11_col6\" class=\"data row11 col6\" >1.000000</td>\n",
       "      <td id=\"T_8b15b_row11_col7\" class=\"data row11 col7\" >1.000000</td>\n",
       "    </tr>\n",
       "  </tbody>\n",
       "</table>\n"
      ],
      "text/plain": [
       "<pandas.io.formats.style.Styler at 0x24d8ab74e10>"
      ]
     },
     "execution_count": 7,
     "metadata": {},
     "output_type": "execute_result"
    }
   ],
   "source": [
    "df.describe().T.style.background_gradient(cmap=\"Blues\")"
   ]
  },
  {
   "cell_type": "code",
   "execution_count": 8,
   "metadata": {},
   "outputs": [
    {
     "data": {
      "image/png": "[encoded data removed]",
      "text/plain": [
       "<Figure size 1000x800 with 2 Axes>"
      ]
     },
     "metadata": {},
     "output_type": "display_data"
    }
   ],
   "source": [
    "plt.figure(figsize=(10,8))\n",
    "sns.heatmap(df.corr(),annot=True,cmap=\"Blues\")\n",
    "plt.title(\"Correlation heatmap\")\n",
    "plt.xlabel(\"variables\")\n",
    "plt.ylabel(\"variables\")\n",
    "\n",
    "plt.show()\n"
   ]
  },
  {
   "cell_type": "code",
   "execution_count": 9,
   "metadata": {},
   "outputs": [
    {
     "data": {
      "image/png": "[encoded data removed]",
      "text/plain": [
       "<Figure size 800x600 with 1 Axes>"
      ]
     },
     "metadata": {},
     "output_type": "display_data"
    }
   ],
   "source": [
    "plt.figure(figsize=(8,6))\n",
    "sns.countplot(df,x=\" loan_status\")\n",
    "plt.show()"
   ]
  },
  {
   "cell_type": "code",
   "execution_count": 10,
   "metadata": {},
   "outputs": [
    {
     "data": {
      "image/png": "[encoded data removed]",
      "text/plain": [
       "<Figure size 800x600 with 1 Axes>"
      ]
     },
     "metadata": {},
     "output_type": "display_data"
    }
   ],
   "source": [
    "plt.figure(figsize=(8,6))\n",
    "sns.countplot(df,x=\" self_employed\")\n",
    "plt.show()"
   ]
  },
  {
   "cell_type": "code",
   "execution_count": 11,
   "metadata": {},
   "outputs": [
    {
     "data": {
      "image/png": "[encoded data removed]",
      "text/plain": [
       "<Figure size 800x600 with 1 Axes>"
      ]
     },
     "metadata": {},
     "output_type": "display_data"
    }
   ],
   "source": [
    "plt.figure(figsize=(8,6))\n",
    "sns.countplot(df,x=\" education\")\n",
    "plt.show()"
   ]
  },
  {
   "cell_type": "code",
   "execution_count": 12,
   "metadata": {},
   "outputs": [
    {
     "data": {
      "image/png": "[encoded data removed]",
      "text/plain": [
       "<Figure size 800x600 with 1 Axes>"
      ]
     },
     "metadata": {},
     "output_type": "display_data"
    }
   ],
   "source": [
    "plt.figure(figsize=(8,6))\n",
    "sns.scatterplot(df,x=\" loan_status\",y=\" cibil_score\")\n",
    "plt.show()"
   ]
  },
  {
   "cell_type": "code",
   "execution_count": 13,
   "metadata": {},
   "outputs": [],
   "source": [
    "\n",
    "x=df.drop([\" loan_status\"],axis=1)\n",
    "y=df[\" loan_status\"]\n",
    "from sklearn.model_selection import train_test_split # type: ignore\n",
    "x_train,x_test,y_train,y_test= train_test_split(x,y,test_size=0.2)"
   ]
  },
  {
   "cell_type": "markdown",
   "metadata": {},
   "source": [
    "##Logistic Regression "
   ]
  },
  {
   "cell_type": "code",
   "execution_count": 14,
   "metadata": {},
   "outputs": [
    {
     "name": "stdout",
     "output_type": "stream",
     "text": [
      "              precision    recall  f1-score   support\n",
      "\n",
      "           0       0.62      1.00      0.76       524\n",
      "           1       0.86      0.02      0.04       330\n",
      "\n",
      "    accuracy                           0.62       854\n",
      "   macro avg       0.74      0.51      0.40       854\n",
      "weighted avg       0.71      0.62      0.48       854\n",
      "\n",
      "Accuracy of Logistic Regression is :  61.94379391100703\n"
     ]
    }
   ],
   "source": [
    "from sklearn.linear_model import LogisticRegression\n",
    "reg = LogisticRegression()\n",
    "reg.fit(x_train,y_train)\n",
    "regpred = reg.predict(x_test)\n",
    "\n",
    "from sklearn.metrics import classification_report,confusion_matrix,accuracy_score\n",
    "print(classification_report(y_test,regpred))\n",
    "print(\"Accuracy of Logistic Regression is : \",accuracy_score(y_test,regpred)*100)"
   ]
  },
  {
   "cell_type": "code",
   "execution_count": 15,
   "metadata": {},
   "outputs": [
    {
     "name": "stdout",
     "output_type": "stream",
     "text": [
      "Mean Absolute Error: 0.3805620608899297\n",
      "Mean Squared Error: 0.3805620608899297\n",
      "Root Mean Squared Error: 0.6168971234249109\n",
      "R2 Score: -0.6050774924820728\n"
     ]
    }
   ],
   "source": [
    "from sklearn.metrics import mean_absolute_error, mean_squared_error, r2_score\n",
    "print(\"Mean Absolute Error:\",mean_absolute_error(y_test,regpred))\n",
    "print(\"Mean Squared Error:\", mean_squared_error(y_test,regpred))\n",
    "print(\"Root Mean Squared Error:\", np.sqrt(mean_squared_error(y_test,regpred)))\n",
    "print(\"R2 Score:\", r2_score(y_test,regpred))\n"
   ]
  },
  {
   "cell_type": "markdown",
   "metadata": {},
   "source": [
    "Decision Tree"
   ]
  },
  {
   "cell_type": "code",
   "execution_count": 16,
   "metadata": {},
   "outputs": [
    {
     "name": "stdout",
     "output_type": "stream",
     "text": [
      "              precision    recall  f1-score   support\n",
      "\n",
      "           0       0.99      0.98      0.99       524\n",
      "           1       0.97      0.99      0.98       330\n",
      "\n",
      "    accuracy                           0.98       854\n",
      "   macro avg       0.98      0.99      0.98       854\n",
      "weighted avg       0.98      0.98      0.98       854\n",
      "\n",
      "Accuracy of Decision Tree: 98.47775175644028\n"
     ]
    }
   ],
   "source": [
    "from sklearn import tree\n",
    "dtree= tree.DecisionTreeClassifier()\n",
    "dtree.fit(x_train,y_train)\n",
    "dtreepred= dtree.predict(x_test)\n",
    "print(classification_report(y_test,dtreepred))\n",
    "print(\"Accuracy of Decision Tree:\",accuracy_score(y_test,dtreepred)*100)"
   ]
  },
  {
   "cell_type": "code",
   "execution_count": 17,
   "metadata": {},
   "outputs": [
    {
     "name": "stdout",
     "output_type": "stream",
     "text": [
      "Mean Absolute Error: 0.01522248243559719\n",
      "Mean Squared Error: 0.01522248243559719\n",
      "Root Mean rooted error: 0.12337942468498217\n",
      "R2 Square: 0.935796900300717\n"
     ]
    }
   ],
   "source": [
    "from sklearn.metrics import mean_absolute_error, mean_squared_error, r2_score\n",
    "print(\"Mean Absolute Error:\", mean_absolute_error(y_test,dtreepred))\n",
    "print(\"Mean Squared Error:\", mean_squared_error(y_test,dtreepred))\n",
    "print(\"Root Mean rooted error:\", np.sqrt(mean_squared_error(y_test,dtreepred)))\n",
    "print(\"R2 Square:\", r2_score(y_test,dtreepred))"
   ]
  },
  {
   "cell_type": "markdown",
   "metadata": {},
   "source": [
    "Random Forest "
   ]
  },
  {
   "cell_type": "code",
   "execution_count": 18,
   "metadata": {},
   "outputs": [
    {
     "name": "stdout",
     "output_type": "stream",
     "text": [
      "              precision    recall  f1-score   support\n",
      "\n",
      "           0       0.99      0.99      0.99       524\n",
      "           1       0.98      0.98      0.98       330\n",
      "\n",
      "    accuracy                           0.98       854\n",
      "   macro avg       0.98      0.98      0.98       854\n",
      "weighted avg       0.98      0.98      0.98       854\n",
      "\n",
      "Accuracy of RandomForest: 98.47775175644028\n"
     ]
    }
   ],
   "source": [
    "from sklearn.ensemble import RandomForestClassifier\n",
    "rf=RandomForestClassifier(n_estimators=100)#the model will create 100 decision trees and use them collectively to get prediction\n",
    "rf.fit(x_train,y_train)\n",
    "rfpred= rf.predict(x_test)\n",
    "print(classification_report(y_test,rfpred))\n",
    "print(\"Accuracy of RandomForest:\",accuracy_score(y_test,rfpred)*100)"
   ]
  },
  {
   "cell_type": "code",
   "execution_count": 19,
   "metadata": {},
   "outputs": [
    {
     "name": "stdout",
     "output_type": "stream",
     "text": [
      "Mean Absolute Error: 0.01522248243559719\n",
      "Mean Squared Error: 0.01522248243559719\n",
      "Root Mean Squared Error: 0.12337942468498217\n",
      "R2 Square: 0.935796900300717\n"
     ]
    }
   ],
   "source": [
    "from sklearn.metrics import mean_absolute_error, mean_squared_error, r2_score\n",
    "print(\"Mean Absolute Error:\", mean_absolute_error(y_test,rfpred))\n",
    "print(\"Mean Squared Error:\",mean_squared_error(y_test,rfpred))\n",
    "print(\"Root Mean Squared Error:\", np.sqrt(mean_squared_error(y_test,rfpred)))\n",
    "print(\"R2 Square:\", r2_score(y_test,rfpred))"
   ]
  },
  {
   "cell_type": "markdown",
   "metadata": {},
   "source": [
    "Comapring Models on the basis of its perfromance "
   ]
  },
  {
   "cell_type": "code",
   "execution_count": 20,
   "metadata": {},
   "outputs": [
    {
     "data": {
      "text/plain": [
       "<function matplotlib.pyplot.show(close=None, block=None)>"
      ]
     },
     "execution_count": 20,
     "metadata": {},
     "output_type": "execute_result"
    },
    {
     "data": {
      "image/png": "[encoded data removed]",
      "text/plain": [
       "<Figure size 640x480 with 1 Axes>"
      ]
     },
     "metadata": {},
     "output_type": "display_data"
    }
   ],
   "source": [
    "\n",
    "LR=accuracy_score(y_test,regpred)*100\n",
    "DT=accuracy_score(y_test,dtreepred)*100\n",
    "RF=accuracy_score(y_test,rfpred)*100\n",
    "Model=['LR','DT','RF']\n",
    "Score=[LR,DT,RF]\n",
    "barplot=plt.bar(x=Model,height=Score)\n",
    "plt.show"
   ]
  },
  {
   "cell_type": "markdown",
   "metadata": {},
   "source": [
    "Features Importance "
   ]
  },
  {
   "cell_type": "code",
   "execution_count": 21,
   "metadata": {},
   "outputs": [
    {
     "name": "stdout",
     "output_type": "stream",
     "text": [
      "                     features  importance\n",
      "6                 cibil_score    0.815306\n",
      "5                   loan_term    0.057081\n",
      "4                 loan_amount    0.028242\n",
      "3                income_annum    0.018703\n",
      "9         luxury_assets_value    0.018454\n",
      "8     commercial_assets_value    0.017383\n",
      "7    residential_assets_value    0.017307\n",
      "10           bank_asset_value    0.014419\n",
      "0            no_of_dependents    0.008128\n",
      "2               self_employed    0.002669\n",
      "1                   education    0.002308\n"
     ]
    }
   ],
   "source": [
    "importances=rf.feature_importances_\n",
    "feature_importances=pd.DataFrame({\"features\":x.columns,\"importance\":importances})\n",
    "feature_importances= feature_importances.sort_values('importance',ascending=False)\n",
    "print(feature_importances)"
   ]
  },
  {
   "cell_type": "markdown",
   "metadata": {},
   "source": [
    "From the above table we can see that Cibil score is one of the major feature which decides whether the loan should be approved or not."
   ]
  },
  {
   "cell_type": "markdown",
   "metadata": {},
   "source": [
    "##Converting it to a web application "
   ]
  },
  {
   "cell_type": "markdown",
   "metadata": {},
   "source": []
  },
  {
   "cell_type": "code",
   "execution_count": 22,
   "metadata": {},
   "outputs": [
    {
     "name": "stdout",
     "output_type": "stream",
     "text": [
      "Random Forest model saved as 'random_forest_model.pkl'\n"
     ]
    }
   ],
   "source": [
    "from sklearn.ensemble import RandomForestClassifier\n",
    "import joblib\n",
    "\n",
    "# Train the Random Forest model\n",
    "rf_model = RandomForestClassifier(n_estimators=100, random_state=42)\n",
    "rf_model.fit(x_train, y_train)\n",
    "\n",
    "# Save the Random Forest model\n",
    "joblib.dump(rf_model, 'random_forest_model.pkl')\n",
    "print(\"Random Forest model saved as 'random_forest_model.pkl'\")\n"
   ]
  },
  {
   "cell_type": "code",
   "execution_count": 23,
   "metadata": {},
   "outputs": [
    {
     "name": "stderr",
     "output_type": "stream",
     "text": [
      "2024-10-25 13:56:01.403 \n",
      "  \u001b[33m\u001b[1mWarning:\u001b[0m to view this Streamlit app on a browser, run it with the following\n",
      "  command:\n",
      "\n",
      "    streamlit run c:\\Users\\USER ACCOUNT\\anaconda3\\Lib\\site-packages\\ipykernel_launcher.py [ARGUMENTS]\n"
     ]
    }
   ],
   "source": [
    "import streamlit as st\n",
    "import joblib\n",
    "import numpy as np\n",
    "\n",
    "# Load the saved Random Forest model\n",
    "rf_model = joblib.load(\"random_forest_model.pkl\")\n",
    "\n",
    "# Define the app title\n",
    "st.title(\"Loan Approval Prediction App (Random Forest)\")\n",
    "\n",
    "# User input for features\n",
    "def get_user_input():\n",
    "    no_of_dependents = st.number_input(\"Number of Dependents\", min_value=0, max_value=10, step=1)\n",
    "    education = st.selectbox(\"Education\", (\"Graduate\", \"Not Graduate\"))\n",
    "    self_employed = st.selectbox(\"Self Employed\", (\"Yes\", \"No\"))\n",
    "    income_annum = st.number_input(\"Annual Income (in currency)\")\n",
    "    loan_amount = st.number_input(\"Loan Amount\")\n",
    "    loan_term = st.number_input(\"Loan Term\")\n",
    "    cibil_score = st.number_input(\"CIBIL Score\", min_value=300, max_value=900)\n",
    "    residential_assets_value = st.number_input(\"Residential Assets Value\")\n",
    "    commercial_assets_value = st.number_input(\"Commercial Assets Value\")\n",
    "    luxury_assets_value = st.number_input(\"Luxury Assets Value\")\n",
    "    bank_asset_value = st.number_input(\"Bank Asset Value\")\n",
    "\n",
    "    # Encoding categorical variables\n",
    "    education = 1 if education == \"Graduate\" else 0\n",
    "    self_employed = 1 if self_employed == \"Yes\" else 0\n",
    "\n",
    "    # Feature array\n",
    "    features = np.array([[no_of_dependents, education, self_employed, income_annum, loan_amount,\n",
    "                          loan_term, cibil_score, residential_assets_value, commercial_assets_value,\n",
    "                          luxury_assets_value, bank_asset_value]])\n",
    "    return features\n",
    "\n",
    "# Predict function\n",
    "def predict(features):\n",
    "    prediction = rf_model.predict(features)\n",
    "    return \"Approved\" if prediction[0] == 1 else \"Rejected\"\n",
    "\n",
    "# Main section for user input and prediction\n",
    "st.header(\"Enter Loan Details:\")\n",
    "user_input = get_user_input()\n",
    "\n",
    "# Predict button\n",
    "if st.button(\"Predict Loan Status\"):\n",
    "    result = predict(user_input)\n",
    "    st.subheader(f\"Loan Status: {result}\")\n"
   ]
  },
  {
   "cell_type": "code",
   "execution_count": 24,
   "metadata": {},
   "outputs": [
    {
     "name": "stdout",
     "output_type": "stream",
     "text": [
      "Requirement already satisfied: streamlit in c:\\users\\user account\\anaconda3\\lib\\site-packages (1.30.0)\n",
      "Requirement already satisfied: altair<6,>=4.0 in c:\\users\\user account\\anaconda3\\lib\\site-packages (from streamlit) (5.0.1)\n",
      "Requirement already satisfied: blinker<2,>=1.0.0 in c:\\users\\user account\\anaconda3\\lib\\site-packages (from streamlit) (1.6.2)\n",
      "Requirement already satisfied: cachetools<6,>=4.0 in c:\\users\\user account\\anaconda3\\lib\\site-packages (from streamlit) (4.2.2)\n",
      "Requirement already satisfied: click<9,>=7.0 in c:\\users\\user account\\anaconda3\\lib\\site-packages (from streamlit) (8.1.7)\n",
      "Requirement already satisfied: importlib-metadata<8,>=1.4 in c:\\users\\user account\\anaconda3\\lib\\site-packages (from streamlit) (7.0.1)\n",
      "Requirement already satisfied: numpy<2,>=1.19.3 in c:\\users\\user account\\anaconda3\\lib\\site-packages (from streamlit) (1.26.4)\n",
      "Requirement already satisfied: packaging<24,>=16.8 in c:\\users\\user account\\anaconda3\\lib\\site-packages (from streamlit) (23.1)\n",
      "Requirement already satisfied: pandas<3,>=1.3.0 in c:\\users\\user account\\anaconda3\\lib\\site-packages (from streamlit) (2.1.4)\n",
      "Requirement already satisfied: pillow<11,>=7.1.0 in c:\\users\\user account\\anaconda3\\lib\\site-packages (from streamlit) (10.2.0)\n",
      "Requirement already satisfied: protobuf<5,>=3.20 in c:\\users\\user account\\anaconda3\\lib\\site-packages (from streamlit) (3.20.3)\n",
      "Requirement already satisfied: pyarrow>=6.0 in c:\\users\\user account\\anaconda3\\lib\\site-packages (from streamlit) (14.0.2)\n",
      "Requirement already satisfied: python-dateutil<3,>=2.7.3 in c:\\users\\user account\\anaconda3\\lib\\site-packages (from streamlit) (2.8.2)\n",
      "Requirement already satisfied: requests<3,>=2.27 in c:\\users\\user account\\anaconda3\\lib\\site-packages (from streamlit) (2.31.0)\n",
      "Requirement already satisfied: rich<14,>=10.14.0 in c:\\users\\user account\\anaconda3\\lib\\site-packages (from streamlit) (13.3.5)\n",
      "Requirement already satisfied: tenacity<9,>=8.1.0 in c:\\users\\user account\\anaconda3\\lib\\site-packages (from streamlit) (8.2.2)\n",
      "Requirement already satisfied: toml<2,>=0.10.1 in c:\\users\\user account\\anaconda3\\lib\\site-packages (from streamlit) (0.10.2)\n",
      "Requirement already satisfied: typing-extensions<5,>=4.3.0 in c:\\users\\user account\\anaconda3\\lib\\site-packages (from streamlit) (4.9.0)\n",
      "Requirement already satisfied: tzlocal<6,>=1.1 in c:\\users\\user account\\anaconda3\\lib\\site-packages (from streamlit) (2.1)\n",
      "Requirement already satisfied: validators<1,>=0.2 in c:\\users\\user account\\anaconda3\\lib\\site-packages (from streamlit) (0.18.2)\n",
      "Requirement already satisfied: gitpython!=3.1.19,<4,>=3.0.7 in c:\\users\\user account\\anaconda3\\lib\\site-packages (from streamlit) (3.1.37)\n",
      "Requirement already satisfied: pydeck<1,>=0.8.0b4 in c:\\users\\user account\\anaconda3\\lib\\site-packages (from streamlit) (0.8.0)\n",
      "Requirement already satisfied: tornado<7,>=6.0.3 in c:\\users\\user account\\anaconda3\\lib\\site-packages (from streamlit) (6.3.3)\n",
      "Requirement already satisfied: watchdog>=2.1.5 in c:\\users\\user account\\anaconda3\\lib\\site-packages (from streamlit) (2.1.6)\n",
      "Requirement already satisfied: jinja2 in c:\\users\\user account\\anaconda3\\lib\\site-packages (from altair<6,>=4.0->streamlit) (3.1.3)\n",
      "Requirement already satisfied: jsonschema>=3.0 in c:\\users\\user account\\anaconda3\\lib\\site-packages (from altair<6,>=4.0->streamlit) (4.19.2)\n",
      "Requirement already satisfied: toolz in c:\\users\\user account\\anaconda3\\lib\\site-packages (from altair<6,>=4.0->streamlit) (0.12.0)\n",
      "Requirement already satisfied: colorama in c:\\users\\user account\\anaconda3\\lib\\site-packages (from click<9,>=7.0->streamlit) (0.4.6)\n",
      "Requirement already satisfied: gitdb<5,>=4.0.1 in c:\\users\\user account\\anaconda3\\lib\\site-packages (from gitpython!=3.1.19,<4,>=3.0.7->streamlit) (4.0.7)\n",
      "Requirement already satisfied: zipp>=0.5 in c:\\users\\user account\\anaconda3\\lib\\site-packages (from importlib-metadata<8,>=1.4->streamlit) (3.17.0)\n",
      "Requirement already satisfied: pytz>=2020.1 in c:\\users\\user account\\anaconda3\\lib\\site-packages (from pandas<3,>=1.3.0->streamlit) (2023.3.post1)\n",
      "Requirement already satisfied: tzdata>=2022.1 in c:\\users\\user account\\anaconda3\\lib\\site-packages (from pandas<3,>=1.3.0->streamlit) (2023.3)\n",
      "Requirement already satisfied: six>=1.5 in c:\\users\\user account\\anaconda3\\lib\\site-packages (from python-dateutil<3,>=2.7.3->streamlit) (1.16.0)\n",
      "Requirement already satisfied: charset-normalizer<4,>=2 in c:\\users\\user account\\anaconda3\\lib\\site-packages (from requests<3,>=2.27->streamlit) (2.0.4)\n",
      "Requirement already satisfied: idna<4,>=2.5 in c:\\users\\user account\\anaconda3\\lib\\site-packages (from requests<3,>=2.27->streamlit) (3.4)\n",
      "Requirement already satisfied: urllib3<3,>=1.21.1 in c:\\users\\user account\\anaconda3\\lib\\site-packages (from requests<3,>=2.27->streamlit) (2.0.7)\n",
      "Requirement already satisfied: certifi>=2017.4.17 in c:\\users\\user account\\anaconda3\\lib\\site-packages (from requests<3,>=2.27->streamlit) (2024.2.2)\n",
      "Requirement already satisfied: markdown-it-py<3.0.0,>=2.2.0 in c:\\users\\user account\\anaconda3\\lib\\site-packages (from rich<14,>=10.14.0->streamlit) (2.2.0)\n",
      "Requirement already satisfied: pygments<3.0.0,>=2.13.0 in c:\\users\\user account\\anaconda3\\lib\\site-packages (from rich<14,>=10.14.0->streamlit) (2.15.1)\n",
      "Requirement already satisfied: decorator>=3.4.0 in c:\\users\\user account\\anaconda3\\lib\\site-packages (from validators<1,>=0.2->streamlit) (5.1.1)\n",
      "Requirement already satisfied: smmap<5,>=3.0.1 in c:\\users\\user account\\anaconda3\\lib\\site-packages (from gitdb<5,>=4.0.1->gitpython!=3.1.19,<4,>=3.0.7->streamlit) (4.0.0)\n",
      "Requirement already satisfied: MarkupSafe>=2.0 in c:\\users\\user account\\anaconda3\\lib\\site-packages (from jinja2->altair<6,>=4.0->streamlit) (2.1.3)\n",
      "Requirement already satisfied: attrs>=22.2.0 in c:\\users\\user account\\anaconda3\\lib\\site-packages (from jsonschema>=3.0->altair<6,>=4.0->streamlit) (23.1.0)\n",
      "Requirement already satisfied: jsonschema-specifications>=2023.03.6 in c:\\users\\user account\\anaconda3\\lib\\site-packages (from jsonschema>=3.0->altair<6,>=4.0->streamlit) (2023.7.1)\n",
      "Requirement already satisfied: referencing>=0.28.4 in c:\\users\\user account\\anaconda3\\lib\\site-packages (from jsonschema>=3.0->altair<6,>=4.0->streamlit) (0.30.2)\n",
      "Requirement already satisfied: rpds-py>=0.7.1 in c:\\users\\user account\\anaconda3\\lib\\site-packages (from jsonschema>=3.0->altair<6,>=4.0->streamlit) (0.10.6)\n",
      "Requirement already satisfied: mdurl~=0.1 in c:\\users\\user account\\anaconda3\\lib\\site-packages (from markdown-it-py<3.0.0,>=2.2.0->rich<14,>=10.14.0->streamlit) (0.1.0)\n",
      "Note: you may need to restart the kernel to use updated packages.\n"
     ]
    }
   ],
   "source": [
    "%pip install streamlit"
   ]
  },
  {
   "cell_type": "code",
   "execution_count": null,
   "metadata": {},
   "outputs": [
    {
     "ename": "NameError",
     "evalue": "name 'streamlit' is not defined",
     "output_type": "error",
     "traceback": [
      "\u001b[1;31m---------------------------------------------------------------------------\u001b[0m",
      "\u001b[1;31mNameError\u001b[0m                                 Traceback (most recent call last)",
      "Cell \u001b[1;32mIn[25], line 1\u001b[0m\n\u001b[1;32m----> 1\u001b[0m streamlit \u001b[38;5;241m-\u001b[39m\u001b[38;5;241m-\u001b[39mversion\n",
      "\u001b[1;31mNameError\u001b[0m: name 'streamlit' is not defined"
     ]
    }
   ],
   "source": [
    "streamlit run app_rf.py\n",
    "\n"
   ]
  }
 ],
 "metadata": {
  "kernelspec": {
   "display_name": "base",
   "language": "python",
   "name": "python3"
  },
  "language_info": {
   "codemirror_mode": {
    "name": "ipython",
    "version": 3
   },
   "file_extension": ".py",
   "mimetype": "text/x-python",
   "name": "python",
   "nbconvert_exporter": "python",
   "pygments_lexer": "ipython3",
   "version": "3.11.7"
  }
 },
 "nbformat": 4,
 "nbformat_minor": 2
}
